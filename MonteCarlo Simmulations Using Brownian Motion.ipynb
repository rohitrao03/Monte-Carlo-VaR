{
 "cells": [
  {
   "cell_type": "markdown",
   "metadata": {},
   "source": [
    "# VaR using Monte Carlo simulation (Gemoetric Brownian Motion)"
   ]
  },
  {
   "cell_type": "code",
   "execution_count": 26,
   "metadata": {},
   "outputs": [],
   "source": [
    "import datetime as dt\n",
    "import numpy as np\n",
    "import matplotlib.pyplot as plt\n",
    "import scipy.stats as scs\n",
    "import pandas as pd\n",
    "import yfinance as yf\n"
   ]
  },
  {
   "cell_type": "code",
   "execution_count": 53,
   "metadata": {},
   "outputs": [
    {
     "data": {
      "text/plain": [
       "183234.58862304688"
      ]
     },
     "execution_count": 53,
     "metadata": {},
     "output_type": "execute_result"
    }
   ],
   "source": [
    "\n",
    "\n",
    "#define the ticker symbol\n",
    "tickerSymbols = ['AAPL','MSFT','TSM','NVDA','CSCO','ACN','ADBE','IBM']\n",
    "\n",
    "\n",
    "def getprice(tickerSymbol):\n",
    "    tickerData = yf.Ticker(tickerSymbol)\n",
    "    tickerDf = tickerData.history(period='1y')\n",
    "    return tickerDf['Close'][0]\n",
    "\n",
    "#see your data\n",
    "PortfolioValue=0\n",
    "for i in tickerSymbols:\n",
    "    PortfolioValue+=getprice(i)\n",
    "    \n",
    "PortfolioValue=PortfolioValue*100  #100 units of each stock\n",
    "\n",
    "PortfolioValue"
   ]
  },
  {
   "cell_type": "code",
   "execution_count": 126,
   "metadata": {},
   "outputs": [
    {
     "data": {
      "text/plain": [
       "Date\n",
       "2002-10-08 00:00:00-04:00      74.983931\n",
       "2002-10-09 00:00:00-04:00      72.666496\n",
       "2002-10-10 00:00:00-04:00      77.161422\n",
       "2002-10-11 00:00:00-04:00      83.646877\n",
       "2002-10-14 00:00:00-04:00      83.698203\n",
       "                                ...     \n",
       "2022-10-03 00:00:00-04:00    1290.110012\n",
       "2022-10-04 00:00:00-04:00    1336.060005\n",
       "2022-10-05 00:00:00-04:00    1341.619991\n",
       "2022-10-06 00:00:00-04:00    1329.499996\n",
       "2022-10-07 00:00:00-04:00    1272.409985\n",
       "Name: Close, Length: 5036, dtype: float64"
      ]
     },
     "execution_count": 126,
     "metadata": {},
     "output_type": "execute_result"
    }
   ],
   "source": [
    "def getPFseries(tickerSymbol):\n",
    "    tickerData = yf.Ticker(tickerSymbol)\n",
    "    tickerDf = tickerData.history(period='20y')\n",
    "    return tickerDf['Close']\n",
    "vol_cal=np.zeros(5036)\n",
    "for i in tickerSymbols:\n",
    "    vol_cal+=getPFseries(i)\n",
    "\n",
    "vol_cal"
   ]
  },
  {
   "cell_type": "code",
   "execution_count": 127,
   "metadata": {},
   "outputs": [
    {
     "data": {
      "text/plain": [
       "Date\n",
       "2002-10-08 00:00:00-04:00         NaN\n",
       "2002-10-09 00:00:00-04:00   -0.031393\n",
       "2002-10-10 00:00:00-04:00    0.060019\n",
       "2002-10-11 00:00:00-04:00    0.080704\n",
       "2002-10-14 00:00:00-04:00    0.000613\n",
       "                               ...   \n",
       "2022-10-03 00:00:00-04:00    0.029992\n",
       "2022-10-04 00:00:00-04:00    0.034997\n",
       "2022-10-05 00:00:00-04:00    0.004153\n",
       "2022-10-06 00:00:00-04:00   -0.009075\n",
       "2022-10-07 00:00:00-04:00   -0.043890\n",
       "Name: Close, Length: 5036, dtype: float64"
      ]
     },
     "execution_count": 127,
     "metadata": {},
     "output_type": "execute_result"
    }
   ],
   "source": [
    "vol_cal=np.log(vol_cal/vol_cal.shift())\n",
    "vol_cal"
   ]
  },
  {
   "cell_type": "code",
   "execution_count": 134,
   "metadata": {},
   "outputs": [
    {
     "data": {
      "text/plain": [
       "0.01435834550230413"
      ]
     },
     "execution_count": 134,
     "metadata": {},
     "output_type": "execute_result"
    }
   ],
   "source": [
    "vol = vol_cal.std()\n",
    "vol"
   ]
  },
  {
   "cell_type": "code",
   "execution_count": 135,
   "metadata": {},
   "outputs": [],
   "source": [
    "n_sims = 1000000\n",
    "rfr = 0.07\n",
    "time=30\n",
    "#vol = 0.25\n",
    "S0 = PortfolioValue"
   ]
  },
  {
   "cell_type": "code",
   "execution_count": 136,
   "metadata": {},
   "outputs": [],
   "source": [
    "d = (rfr - 0.5*vol**2)*(time/252)\n",
    "a=vol*np.sqrt(time/252)\n",
    "r=np.random.normal(0,1,(n_sims,1))\n",
    "\n",
    "GBM_returns = S0 * np.exp(d+a*r)"
   ]
  },
  {
   "cell_type": "code",
   "execution_count": 137,
   "metadata": {},
   "outputs": [
    {
     "data": {
      "text/plain": [
       "array([[183875.09769036],\n",
       "       [184506.75458664],\n",
       "       [184987.83312417],\n",
       "       ...,\n",
       "       [184889.99232592],\n",
       "       [185418.72676105],\n",
       "       [184955.95992636]])"
      ]
     },
     "execution_count": 137,
     "metadata": {},
     "output_type": "execute_result"
    }
   ],
   "source": [
    "GBM_returns"
   ]
  },
  {
   "cell_type": "code",
   "execution_count": 138,
   "metadata": {},
   "outputs": [
    {
     "data": {
      "text/plain": [
       "array([-1861.03779228, -1283.72580841,  -585.88557207,  -253.2531626 ,\n",
       "          34.69684584,   364.07607889])"
      ]
     },
     "execution_count": 138,
     "metadata": {},
     "output_type": "execute_result"
    }
   ],
   "source": [
    "pers = [0.01,0.1,1,2.5,5,10]\n",
    "\n",
    "var=scs.scoreatpercentile(GBM_returns-S0 ,pers)\n",
    "var "
   ]
  },
  {
   "cell_type": "code",
   "execution_count": 139,
   "metadata": {},
   "outputs": [
    {
     "data": {
      "text/html": [
       "<div>\n",
       "<style scoped>\n",
       "    .dataframe tbody tr th:only-of-type {\n",
       "        vertical-align: middle;\n",
       "    }\n",
       "\n",
       "    .dataframe tbody tr th {\n",
       "        vertical-align: top;\n",
       "    }\n",
       "\n",
       "    .dataframe thead th {\n",
       "        text-align: right;\n",
       "    }\n",
       "</style>\n",
       "<table border=\"1\" class=\"dataframe\">\n",
       "  <thead>\n",
       "    <tr style=\"text-align: right;\">\n",
       "      <th></th>\n",
       "      <th>VaR</th>\n",
       "    </tr>\n",
       "  </thead>\n",
       "  <tbody>\n",
       "    <tr>\n",
       "      <th>0.01</th>\n",
       "      <td>-1861.037792</td>\n",
       "    </tr>\n",
       "    <tr>\n",
       "      <th>0.10</th>\n",
       "      <td>-1283.725808</td>\n",
       "    </tr>\n",
       "    <tr>\n",
       "      <th>1.00</th>\n",
       "      <td>-585.885572</td>\n",
       "    </tr>\n",
       "    <tr>\n",
       "      <th>2.50</th>\n",
       "      <td>-253.253163</td>\n",
       "    </tr>\n",
       "    <tr>\n",
       "      <th>5.00</th>\n",
       "      <td>34.696846</td>\n",
       "    </tr>\n",
       "    <tr>\n",
       "      <th>10.00</th>\n",
       "      <td>364.076079</td>\n",
       "    </tr>\n",
       "  </tbody>\n",
       "</table>\n",
       "</div>"
      ],
      "text/plain": [
       "               VaR\n",
       "0.01  -1861.037792\n",
       "0.10  -1283.725808\n",
       "1.00   -585.885572\n",
       "2.50   -253.253163\n",
       "5.00     34.696846\n",
       "10.00   364.076079"
      ]
     },
     "execution_count": 139,
     "metadata": {},
     "output_type": "execute_result"
    }
   ],
   "source": [
    "df=pd.DataFrame(var,pers,columns=['VaR'])\n",
    "df"
   ]
  },
  {
   "cell_type": "code",
   "execution_count": 141,
   "metadata": {},
   "outputs": [
    {
     "data": {
      "image/png": "[encoded data removed]",
      "text/plain": [
       "<Figure size 432x288 with 1 Axes>"
      ]
     },
     "metadata": {
      "needs_background": "light"
     },
     "output_type": "display_data"
    }
   ],
   "source": [
    "plt.hist(GBM_returns, density=True, bins=10)\n",
    "\n",
    "plt.axvline(df.loc[0.01]['VaR']+1, color ='r',linestyle='dashed',linewidth = 2)\n",
    "\n",
    "plt.axvline(df.loc[0.1]['VaR']+1, color ='g',linestyle='dashed',linewidth = 2)\n",
    "plt.axvline(df.loc[1]['VaR']+1, color ='b',linestyle='dashed',linewidth = 2)\n",
    "plt.axvline(df.loc[2.5]['VaR']+1, color ='y',linestyle='dashed',linewidth = 2)\n",
    "plt.axvline(df.loc[5]['VaR']+1, color ='c',linestyle='dashed',linewidth = 2)\n",
    "plt.axvline(df.loc[10]['VaR']+1, color ='k',linestyle='dashed',linewidth = 2)\n",
    "\n",
    "\n",
    "\n",
    "plt.ylabel('Frequency')\n",
    "plt.xlabel('Daily_return')\n",
    "plt.grid(True, linewidth=0.5)\n",
    "\n",
    "plt.show()"
   ]
  },
  {
   "cell_type": "code",
   "execution_count": null,
   "metadata": {},
   "outputs": [],
   "source": []
  }
 ],
 "metadata": {
  "kernelspec": {
   "display_name": "Python 3",
   "language": "python",
   "name": "python3"
  },
  "language_info": {
   "codemirror_mode": {
    "name": "ipython",
    "version": 3
   },
   "file_extension": ".py",
   "mimetype": "text/x-python",
   "name": "python",
   "nbconvert_exporter": "python",
   "pygments_lexer": "ipython3",
   "version": "3.7.7"
  }
 },
 "nbformat": 4,
 "nbformat_minor": 4
}
